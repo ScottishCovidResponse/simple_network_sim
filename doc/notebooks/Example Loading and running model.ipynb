{
 "cells": [
  {
   "cell_type": "code",
   "execution_count": 29,
   "metadata": {},
   "outputs": [
    {
     "name": "stderr",
     "output_type": "stream",
     "text": [
      "fail_on_hash_mismatch = False\n"
     ]
    }
   ],
   "source": [
    "import pandas as pd\n",
    "import sys\n",
    "\n",
    "sys.path.append('..\\..')\n",
    "\n",
    "from data_pipeline_api import standard_api\n",
    "\n",
    "from simple_network_sim import network_of_populations as ss, loaders\n",
    "from simple_network_sim.sampleUseOfModel import runSimulation, aggregateResults\n",
    "\n",
    "stochastic_mode = False\n",
    "trials = 1\n",
    "\n",
    "with standard_api.StandardAPI.from_config(\"../../config_inference.yaml\", uri=\"\", git_sha=\"\") as store:\n",
    "    network, _ = ss.createNetworkOfPopulation(\n",
    "        store.read_table(\"human/compartment-transition\", \"compartment-transition\"),\n",
    "        store.read_table(\"human/population\", \"population\"),\n",
    "        store.read_table(\"human/commutes\", \"commutes\"),\n",
    "        store.read_table(\"human/mixing-matrix\", \"mixing-matrix\"),\n",
    "        store.read_table(\"human/infectious-compartments\", \"infectious-compartments\"),\n",
    "        store.read_table(\"human/infection-probability\", \"infection-probability\"),\n",
    "        store.read_table(\"human/initial-infections\", \"initial-infections\"),\n",
    "        pd.DataFrame([trials], columns=[\"Value\"]),\n",
    "        store.read_table(\"human/start-end-date\", \"start-end-date\"),\n",
    "        store.read_table(\"human/movement-multipliers\", \"movement-multipliers\"),\n",
    "        pd.DataFrame([stochastic_mode], columns=[\"Value\"]),\n",
    "    )\n",
    "    \n",
    "    random_seed = loaders.readRandomSeed(store.read_table(\"human/random-seed\", \"random-seed\"))"
   ]
  },
  {
   "cell_type": "code",
   "execution_count": 30,
   "metadata": {},
   "outputs": [],
   "source": [
    "results = runSimulation(network, random_seed, [], 1)"
   ]
  },
  {
   "cell_type": "code",
   "execution_count": 31,
   "metadata": {},
   "outputs": [
    {
     "data": {
      "text/plain": [
       "[Result(output=             date       node     age state         total\n",
       " 0      2020-03-09  S08000015     70+     S  58683.000000\n",
       " 1      2020-03-09  S08000015     70+     E      0.000000\n",
       " 2      2020-03-09  S08000015     70+   A_2      0.000000\n",
       " 3      2020-03-09  S08000015     70+     A      0.000000\n",
       " 4      2020-03-09  S08000015     70+     I      0.000000\n",
       " ...           ...        ...     ...   ...           ...\n",
       " 39979  2020-07-05  S08000032  [0,17)     A     20.785935\n",
       " 39980  2020-07-05  S08000032  [0,17)     I     71.271098\n",
       " 39981  2020-07-05  S08000032  [0,17)     H      0.002598\n",
       " 39982  2020-07-05  S08000032  [0,17)     R  20491.128252\n",
       " 39983  2020-07-05  S08000032  [0,17)     D      0.008481\n",
       " \n",
       " [39984 rows x 5 columns], issues=[], description='An individual model run')]"
      ]
     },
     "execution_count": 31,
     "metadata": {},
     "output_type": "execute_result"
    }
   ],
   "source": [
    "results"
   ]
  }
 ],
 "metadata": {
  "kernelspec": {
   "display_name": "Python 3",
   "language": "python",
   "name": "python3"
  },
  "language_info": {
   "codemirror_mode": {
    "name": "ipython",
    "version": 3
   },
   "file_extension": ".py",
   "mimetype": "text/x-python",
   "name": "python",
   "nbconvert_exporter": "python",
   "pygments_lexer": "ipython3",
   "version": "3.7.7"
  }
 },
 "nbformat": 4,
 "nbformat_minor": 4
}
