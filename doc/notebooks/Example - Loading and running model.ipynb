{
 "cells": [
  {
   "cell_type": "code",
   "execution_count": 14,
   "metadata": {},
   "outputs": [
    {
     "name": "stderr",
     "output_type": "stream",
     "text": [
      "fail_on_hash_mismatch = False\n"
     ]
    }
   ],
   "source": [
    "import pandas as pd\n",
    "import sys\n",
    "\n",
    "sys.path.append('..\\..')\n",
    "\n",
    "from data_pipeline_api import standard_api\n",
    "\n",
    "from simple_network_sim import network_of_populations as ss\n",
    "from simple_network_sim.sampleUseOfModel import runSimulation, aggregateResults\n",
    "\n",
    "stochastic_mode = False\n",
    "trials = 1\n",
    "\n",
    "with standard_api.StandardAPI(\"../../config_inference.yaml\", uri=\"\", git_sha=\"\") as store:\n",
    "    network = ss.createNetworkOfPopulation(\n",
    "        store.read_table(\"human/compartment-transition\", \"compartment-transition\"),\n",
    "        store.read_table(\"human/population\", \"population\"),\n",
    "        store.read_table(\"human/commutes\", \"commutes\"),\n",
    "        store.read_table(\"human/mixing-matrix\", \"mixing-matrix\"),\n",
    "        store.read_table(\"human/infectious-compartments\", \"infectious-compartments\"),\n",
    "        store.read_table(\"human/infection-probability\", \"infection-probability\"),\n",
    "        store.read_table(\"human/initial-infections\", \"initial-infections\"),\n",
    "        pd.DataFrame([trials], columns=[\"Value\"]),\n",
    "        store.read_table(\"human/start-end-date\", \"start-end-date\"),\n",
    "        store.read_table(\"human/movement-multipliers\", \"movement-multipliers\"),\n",
    "        pd.DataFrame([stochastic_mode], columns=[\"Value\"]),\n",
    "        store.read_table(\"human/random-seed\", \"random-seed\"),\n",
    "    )"
   ]
  },
  {
   "cell_type": "code",
   "execution_count": 15,
   "metadata": {},
   "outputs": [],
   "source": [
    "results = runSimulation(network)"
   ]
  },
  {
   "cell_type": "code",
   "execution_count": 16,
   "metadata": {},
   "outputs": [
    {
     "data": {
      "text/plain": [
       "[             date       node     age state         total\n",
       " 0      2020-03-16  S08000015     70+     S  58683.000000\n",
       " 1      2020-03-16  S08000015     70+     E      0.000000\n",
       " 2      2020-03-16  S08000015     70+   A_2      0.000000\n",
       " 3      2020-03-16  S08000015     70+     A      0.000000\n",
       " 4      2020-03-16  S08000015     70+     I      0.000000\n",
       " ...           ...        ...     ...   ...           ...\n",
       " 37627  2020-07-05  S08000032  [0,17)     A    122.061412\n",
       " 37628  2020-07-05  S08000032  [0,17)     I    274.869002\n",
       " 37629  2020-07-05  S08000032  [0,17)     H      0.009791\n",
       " 37630  2020-07-05  S08000032  [0,17)     R  22138.106559\n",
       " 37631  2020-07-05  S08000032  [0,17)     D      0.008815\n",
       " \n",
       " [37632 rows x 5 columns]]"
      ]
     },
     "execution_count": 16,
     "metadata": {},
     "output_type": "execute_result"
    }
   ],
   "source": [
    "results"
   ]
  }
 ],
 "metadata": {
  "kernelspec": {
   "display_name": "Python 3",
   "language": "python",
   "name": "python3"
  },
  "language_info": {
   "codemirror_mode": {
    "name": "ipython",
    "version": 3
   },
   "file_extension": ".py",
   "mimetype": "text/x-python",
   "name": "python",
   "nbconvert_exporter": "python",
   "pygments_lexer": "ipython3",
   "version": "3.7.7"
  }
 },
 "nbformat": 4,
 "nbformat_minor": 4
}
